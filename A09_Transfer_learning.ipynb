{
  "cells": [
    {
      "cell_type": "markdown",
      "metadata": {
        "id": "I2WCsXrIzTO6"
      },
      "source": [
        "HHU Deep Learning, WS2022/23, 09.12.2022\n",
        "\n",
        "Lecture: Prof. Dr. Markus Kollmann\n",
        "\n",
        "Exercises: Tim Kaiser, Nikolas Adaloglou\n",
        "\n",
        "# Assignment 9 - Transfer Learning in Image Classification\n",
        "\n",
        "---\n",
        "\n",
        "Submit the solved notebook (not a zip) with your full name plus assingment number for the filename as an indicator, e.g `max_mustermann_a1.ipynb` for assignment 1. If we feel like you have genuinely tried to solve the exercise, you will receive 1 point for this assignment, regardless of the quality of your solution.\n",
        "\n",
        "## <center> DUE FRIDAY 16.12.2022 2:30 pm </center>\n",
        "\n",
        "Drop-off link: [https://uni-duesseldorf.sciebo.de/s/q1gV33QDw7C5RC8](https://uni-duesseldorf.sciebo.de/s/q1gV33QDw7C5RC8)\n",
        "\n",
        "---"
      ]
    },
    {
      "cell_type": "markdown",
      "metadata": {
        "id": "3Y2pSVIa3mnh"
      },
      "source": [
        "We will use `medmnist`, a python library that contains multiple medical imaging datasets for experimentation. You can install it locally via `pip install medmnist` or in google colab with `!pip install medmnist`\n",
        "\n",
        "### The story\n",
        "\n",
        "We found some pretrained resnet models on large-scale natural image data and we want to see if the learned weights are usefull for our medical image classification. \n",
        "\n",
        "- Task 1 and 2: To this end, we will first evaluate the [K-nearest neighbors](https://en.wikipedia.org/wiki/K-nearest_neighbors_algorithm) (KNN) accuracy, using features from a pretrained resnet. We will compare the representations of resnet18 and resnet50\n",
        "- Task 3: Next, we will use the features as training data, instead of the images, and train an MLP on top.\n",
        "- Task 4: We will try to avoid overfitting by applying regularization techniques.\n",
        "- Task 5: We will train the whole network (resnet50), starting from pretrained imagenet weights.\n",
        "- Task 6: Finally, we compute the nearest neighbors and visualize them from the pretrained model.\n",
        "\n",
        "Our new goal is to reach a 95% val. accuracy on pathmnist."
      ]
    },
    {
      "cell_type": "code",
      "source": [
        "!git clone https://github.com/daleonpz/DL_09_Transfer_learning.git\n",
        "%cd DL_09_Transfer_learning"
      ],
      "metadata": {
        "colab": {
          "base_uri": "https://localhost:8080/"
        },
        "id": "wheqGL2BhUWW",
        "outputId": "c10de548-9a7a-4fe3-f5ea-76cb11323987"
      },
      "execution_count": 1,
      "outputs": [
        {
          "output_type": "stream",
          "name": "stdout",
          "text": [
            "fatal: destination path 'DL_09_Transfer_learning' already exists and is not an empty directory.\n",
            "/content/DL_09_Transfer_learning\n"
          ]
        }
      ]
    },
    {
      "cell_type": "code",
      "source": [
        "!pip install medmnist; "
      ],
      "metadata": {
        "colab": {
          "base_uri": "https://localhost:8080/"
        },
        "id": "pq0jnT7SkfWD",
        "outputId": "4881f557-2087-4d35-dff7-04896c52d4ed"
      },
      "execution_count": 2,
      "outputs": [
        {
          "output_type": "stream",
          "name": "stdout",
          "text": [
            "Looking in indexes: https://pypi.org/simple, https://us-python.pkg.dev/colab-wheels/public/simple/\n",
            "Requirement already satisfied: medmnist in /usr/local/lib/python3.8/dist-packages (2.1.0)\n",
            "Requirement already satisfied: tqdm in /usr/local/lib/python3.8/dist-packages (from medmnist) (4.64.1)\n",
            "Requirement already satisfied: Pillow in /usr/local/lib/python3.8/dist-packages (from medmnist) (7.1.2)\n",
            "Requirement already satisfied: scikit-learn in /usr/local/lib/python3.8/dist-packages (from medmnist) (1.0.2)\n",
            "Requirement already satisfied: numpy in /usr/local/lib/python3.8/dist-packages (from medmnist) (1.21.6)\n",
            "Requirement already satisfied: torchvision in /usr/local/lib/python3.8/dist-packages (from medmnist) (0.14.0+cu116)\n",
            "Requirement already satisfied: torch in /usr/local/lib/python3.8/dist-packages (from medmnist) (1.13.0+cu116)\n",
            "Requirement already satisfied: fire in /usr/local/lib/python3.8/dist-packages (from medmnist) (0.5.0)\n",
            "Requirement already satisfied: scikit-image in /usr/local/lib/python3.8/dist-packages (from medmnist) (0.18.3)\n",
            "Requirement already satisfied: pandas in /usr/local/lib/python3.8/dist-packages (from medmnist) (1.3.5)\n",
            "Requirement already satisfied: termcolor in /usr/local/lib/python3.8/dist-packages (from fire->medmnist) (2.1.1)\n",
            "Requirement already satisfied: six in /usr/local/lib/python3.8/dist-packages (from fire->medmnist) (1.15.0)\n",
            "Requirement already satisfied: python-dateutil>=2.7.3 in /usr/local/lib/python3.8/dist-packages (from pandas->medmnist) (2.8.2)\n",
            "Requirement already satisfied: pytz>=2017.3 in /usr/local/lib/python3.8/dist-packages (from pandas->medmnist) (2022.6)\n",
            "Requirement already satisfied: tifffile>=2019.7.26 in /usr/local/lib/python3.8/dist-packages (from scikit-image->medmnist) (2022.10.10)\n",
            "Requirement already satisfied: matplotlib!=3.0.0,>=2.0.0 in /usr/local/lib/python3.8/dist-packages (from scikit-image->medmnist) (3.2.2)\n",
            "Requirement already satisfied: PyWavelets>=1.1.1 in /usr/local/lib/python3.8/dist-packages (from scikit-image->medmnist) (1.4.1)\n",
            "Requirement already satisfied: scipy>=1.0.1 in /usr/local/lib/python3.8/dist-packages (from scikit-image->medmnist) (1.7.3)\n",
            "Requirement already satisfied: imageio>=2.3.0 in /usr/local/lib/python3.8/dist-packages (from scikit-image->medmnist) (2.9.0)\n",
            "Requirement already satisfied: networkx>=2.0 in /usr/local/lib/python3.8/dist-packages (from scikit-image->medmnist) (2.8.8)\n",
            "Requirement already satisfied: cycler>=0.10 in /usr/local/lib/python3.8/dist-packages (from matplotlib!=3.0.0,>=2.0.0->scikit-image->medmnist) (0.11.0)\n",
            "Requirement already satisfied: pyparsing!=2.0.4,!=2.1.2,!=2.1.6,>=2.0.1 in /usr/local/lib/python3.8/dist-packages (from matplotlib!=3.0.0,>=2.0.0->scikit-image->medmnist) (3.0.9)\n",
            "Requirement already satisfied: kiwisolver>=1.0.1 in /usr/local/lib/python3.8/dist-packages (from matplotlib!=3.0.0,>=2.0.0->scikit-image->medmnist) (1.4.4)\n",
            "Requirement already satisfied: threadpoolctl>=2.0.0 in /usr/local/lib/python3.8/dist-packages (from scikit-learn->medmnist) (3.1.0)\n",
            "Requirement already satisfied: joblib>=0.11 in /usr/local/lib/python3.8/dist-packages (from scikit-learn->medmnist) (1.2.0)\n",
            "Requirement already satisfied: typing-extensions in /usr/local/lib/python3.8/dist-packages (from torch->medmnist) (4.4.0)\n",
            "Requirement already satisfied: requests in /usr/local/lib/python3.8/dist-packages (from torchvision->medmnist) (2.23.0)\n",
            "Requirement already satisfied: certifi>=2017.4.17 in /usr/local/lib/python3.8/dist-packages (from requests->torchvision->medmnist) (2022.12.7)\n",
            "Requirement already satisfied: idna<3,>=2.5 in /usr/local/lib/python3.8/dist-packages (from requests->torchvision->medmnist) (2.10)\n",
            "Requirement already satisfied: urllib3!=1.25.0,!=1.25.1,<1.26,>=1.21.1 in /usr/local/lib/python3.8/dist-packages (from requests->torchvision->medmnist) (1.24.3)\n",
            "Requirement already satisfied: chardet<4,>=3.0.2 in /usr/local/lib/python3.8/dist-packages (from requests->torchvision->medmnist) (3.0.4)\n"
          ]
        }
      ]
    },
    {
      "cell_type": "code",
      "source": [
        "# General imports and constants\n",
        "import matplotlib.pyplot as plt\n",
        "import torch.utils.data as data\n",
        "import torch\n",
        "\n",
        "\n",
        "import data.dataset as ds\n",
        "import mymodels.knnconnect \n",
        "\n",
        "from utils import *\n",
        "\n",
        "BATCH_SIZE = 256\n",
        "DEVICE     = \"cuda\" if torch.cuda.is_available() else \"cpu\""
      ],
      "metadata": {
        "id": "D-lEkPDor-iD"
      },
      "execution_count": 3,
      "outputs": []
    },
    {
      "cell_type": "code",
      "source": [
        "# Load dataset \n",
        "dataset_manager  = ds.DataSet()\n",
        "train_ds_plain, val_ds, test_ds = dataset_manager.load_datasets()\n",
        "\n",
        "# Load data \n",
        "train_loader_plain1 = data.DataLoader(dataset=train_ds_plain, \n",
        "                                      batch_size=BATCH_SIZE, \n",
        "                                      shuffle=True, drop_last=True)\n",
        "\n",
        "img1, lab = next(iter(train_loader_plain1))\n",
        "\n",
        "plt.figure(figsize = (50,20))\n",
        "for i in range(3):\n",
        "    imshow(train_ds_plain[i][0], i, dataset_manager.mean, dataset_manager.std)"
      ],
      "metadata": {
        "colab": {
          "base_uri": "https://localhost:8080/",
          "height": 338
        },
        "id": "u07AO0egkFz8",
        "outputId": "ef56a05d-9e46-403a-ea7b-6d9f16f7b94d"
      },
      "execution_count": 4,
      "outputs": [
        {
          "output_type": "stream",
          "name": "stdout",
          "text": [
            "Using downloaded and verified file: /root/.medmnist/pathmnist.npz\n",
            "Using downloaded and verified file: /root/.medmnist/pathmnist.npz\n",
            "Using downloaded and verified file: /root/.medmnist/pathmnist.npz\n"
          ]
        },
        {
          "output_type": "display_data",
          "data": {
            "text/plain": [
              "<Figure size 3600x1440 with 3 Axes>"
            ],
            "image/png": "[encoded data removed]"
          },
          "metadata": {
            "needs_background": "light"
          }
        }
      ]
    },
    {
      "cell_type": "markdown",
      "metadata": {
        "id": "QoDj5JShEA5G"
      },
      "source": [
        "\n",
        "# Task 1\n",
        "\n",
        "Implement the logic of using a pretrained model to produce embeddings and apply KNN on top.\n",
        "More precisly, given a pretrained model and a train and test loader, it computes the embeddings (on the gpu) and then uses the class `sklearn.neighbors.KNeighborsClassifier` to create a classifier. The classifier is created from the train embeddings and computes the train and test accuracy for both data splits.\n",
        "\n",
        "### Optional - encapsulate the logic in a class\n",
        "You can encapsulate the aforementioned logic by filling up the methods in the class below.\n",
        "Minimal documentation is provided for each class method.\n",
        "The method `execute` illustrates how the class methods should be used.\n",
        "\n",
        "```python\n",
        "class KnnConvnet():\n",
        "    def __init__(self, model, device='cpu', distance='cosine'):\n",
        "        super(KnnConvnet, self).__init__()\n",
        "    def get_features(self, mode='train'):\n",
        "    def set_features(self, embeds, labels, mode='train'):\n",
        "    def extract_features(self, loader):\n",
        "    def fit(self, features, labels, k):\n",
        "    def predict(self, features, labels):\n",
        "    \n",
        "    @torch.no_grad()\n",
        "    def execute(self, train_loader, test_loader=None, k=1):\n",
        "        if self.embeds_train is None:\n",
        "            embeds_train, lab_train = self.extract_features(train_loader)\n",
        "            self.set_features(embeds_train, lab_train, mode='train')\n",
        "        \n",
        "        self.fit(self.embeds_train, self.lab_train, k)\n",
        "        train_acc = self.predict(self.embeds_train, self.lab_train)\n",
        "\n",
        "        if test_loader is not None:\n",
        "            if self.embeds_test is None:\n",
        "                embeds_test, lab_test = self.extract_features(test_loader)\n",
        "                self.set_features(embeds_test, lab_test, mode='test')\n",
        "            \n",
        "            test_acc = self.predict(self.embeds_test, self.lab_test)\n",
        "            return train_acc, test_acc\n",
        "        \n",
        "        return train_acc\n",
        "```\n",
        "\n",
        "\n",
        "#### Tips\n",
        "\n",
        "- Feature extraction is much much faster on the GPU\n",
        "- You can use `sklearn.model_selection.cross_val_score ` to calculate the accuracy.\n",
        "- Use the cosine similarity as a distance metric \n",
        " "
      ]
    },
    {
      "cell_type": "code",
      "source": [
        "train_ds_plain.info"
      ],
      "metadata": {
        "colab": {
          "base_uri": "https://localhost:8080/"
        },
        "id": "RVWnv6lSwl9_",
        "outputId": "d4e0a246-b112-4383-a782-36faa32aec84"
      },
      "execution_count": null,
      "outputs": [
        {
          "output_type": "execute_result",
          "data": {
            "text/plain": [
              "{'python_class': 'PathMNIST',\n",
              " 'description': 'The PathMNIST is based on a prior study for predicting survival from colorectal cancer histology slides, providing a dataset (NCT-CRC-HE-100K) of 100,000 non-overlapping image patches from hematoxylin & eosin stained histological images, and a test dataset (CRC-VAL-HE-7K) of 7,180 image patches from a different clinical center. The dataset is comprised of 9 types of tissues, resulting in a multi-class classification task. We resize the source images of 3×224×224 into 3×28×28, and split NCT-CRC-HE-100K into training and validation set with a ratio of 9:1. The CRC-VAL-HE-7K is treated as the test set.',\n",
              " 'url': 'https://zenodo.org/record/6496656/files/pathmnist.npz?download=1',\n",
              " 'MD5': 'a8b06965200029087d5bd730944a56c1',\n",
              " 'task': 'multi-class',\n",
              " 'label': {'0': 'adipose',\n",
              "  '1': 'background',\n",
              "  '2': 'debris',\n",
              "  '3': 'lymphocytes',\n",
              "  '4': 'mucus',\n",
              "  '5': 'smooth muscle',\n",
              "  '6': 'normal colon mucosa',\n",
              "  '7': 'cancer-associated stroma',\n",
              "  '8': 'colorectal adenocarcinoma epithelium'},\n",
              " 'n_channels': 3,\n",
              " 'n_samples': {'train': 89996, 'val': 10004, 'test': 7180},\n",
              " 'license': 'CC BY 4.0'}"
            ]
          },
          "metadata": {},
          "execution_count": 12
        }
      ]
    },
    {
      "cell_type": "code",
      "source": [
        "!git pull\n",
        "import importlib\n",
        "importlib.reload(ds)\n",
        "importlib.reload(mymodels.knnconnect)\n",
        "\n",
        "device = \"cuda\" if torch.cuda.is_available() else \"cpu\"\n",
        "\n",
        "d1 = torch.utils.data.Subset(train_ds_plain, list(range(30000)))\n",
        "d2 = torch.utils.data.Subset(val_ds, list(range(5000)))\n",
        "\n",
        "train_loader = torch.utils.data.DataLoader(\n",
        "        dataset=d1, batch_size=256, shuffle=False, drop_last=False\n",
        "    )\n",
        "test_loader = torch.utils.data.DataLoader(\n",
        "        dataset=d2, batch_size=256, shuffle=False, drop_last=False\n",
        "    )\n",
        "\n",
        "model   = torchvision.models.resnet18(pretrained=True)\n",
        "model   = get_model(\"resnet18\")\n",
        "knn_cls = mymodels.knnconnect.KnnConvnet(model, device=device)\n",
        "train_acc, test_acc = knn_cls.execute(train_loader, test_loader, k=10)\n",
        "print(f\"train acc: {train_acc:.2f}%, test acc: {test_acc:.2f}%\")\n",
        "\n"
      ],
      "metadata": {
        "colab": {
          "base_uri": "https://localhost:8080/"
        },
        "id": "EylkIouOVQpg",
        "outputId": "067befa3-4765-45e6-b891-44f2e71ac31f"
      },
      "execution_count": null,
      "outputs": [
        {
          "output_type": "stream",
          "name": "stdout",
          "text": [
            "Already up to date.\n"
          ]
        },
        {
          "output_type": "stream",
          "name": "stderr",
          "text": [
            "/usr/local/lib/python3.8/dist-packages/torchvision/models/_utils.py:208: UserWarning: The parameter 'pretrained' is deprecated since 0.13 and may be removed in the future, please use 'weights' instead.\n",
            "  warnings.warn(\n",
            "/usr/local/lib/python3.8/dist-packages/torchvision/models/_utils.py:223: UserWarning: Arguments other than a weight enum or `None` for 'weights' are deprecated since 0.13 and may be removed in the future. The current behavior is equivalent to passing `weights=ResNet18_Weights.IMAGENET1K_V1`. You can also use `weights=ResNet18_Weights.DEFAULT` to get the most up-to-date weights.\n",
            "  warnings.warn(msg)\n"
          ]
        },
        {
          "output_type": "stream",
          "name": "stdout",
          "text": [
            "train acc: 79.69%, test acc: 75.30%\n"
          ]
        }
      ]
    },
    {
      "cell_type": "markdown",
      "metadata": {
        "id": "Lldw0NrmzTPU"
      },
      "source": [
        "# Expected results\n",
        "\n",
        "The training accuracy varies from 48% to 60%.\n",
        "Test accuracy should be 54%\n",
        "Examples:\n",
        "```\n",
        "train acc: 51.00%, test acc: 54.00%\n",
        "train acc: 53.67%, test acc: 54.00%\n",
        "train acc: 52.00%, test acc: 54.00%\n",
        "train acc: 48.67%, test acc: 54.00%\n",
        "train acc: 49.67%, test acc: 54.00%\n",
        "train acc: 60.00%, test acc: 54.00%\n",
        "```\n"
      ]
    },
    {
      "cell_type": "markdown",
      "metadata": {
        "id": "aJkfhlSpzTPY"
      },
      "source": [
        "# Task 2: Use the KNN classifier on pretrained features of resnet50\n",
        "\n",
        "Now we will use the KNN class together with two models: resnet50 and resnet18. These are out-of-the-box models, available in the `torchvision` package.  \n",
        "\n",
        "- Load the resnet18 and resnet50 models from `torchvision`, pretrained on the imagenet dataset.\n",
        "- Remove the last layer (use print(model) to see what it's called).\n",
        "- Compute the image embeddings for all training and test data, using the `extract_features` function. These now serve as our new, transformed data. We will use the validation dataloader as test data. \n",
        "- Find the best choice of K in KNN (hyperparameter search). Try at least 4 different values of K for both models.\n",
        "- Plot the results in a scatter plot for both resnet18 and resnet50.\n",
        "- **Important: save the image embeddings** from resnet50 for the next task (i.e. with `torch.save`).\n",
        "\n",
        "PS: Use the non-augmented train and validation dataloaders.\n",
        "\n",
        "You are expected to observe at least 72% val accuracy with resnet50. \n",
        "\n",
        "Hint: those working with google colab you can download files with:\n",
        "\n",
        "```python\n",
        "from google.colab import files\n",
        "import pandas as pd\n",
        "# saves file to local google colab enviroment\n",
        "result.to_csv('example_file.csv')\n",
        "# downloads it to your computer\n",
        "files.download('example_file.csv')\n",
        "```\n",
        "It works with any type of file.\n",
        "\n",
        "[Alternativly, you can mount you google drive storage into colab](https://stackoverflow.com/questions/50168315/mounting-google-drive-on-google-colab)\n",
        "\n",
        "Make sure you save the embeddings in any case."
      ]
    },
    {
      "cell_type": "code",
      "source": [
        "def get_model(modelname, pretrained=True):\n",
        "    ### START CODE HERE ### (approx. 2 lines)\n",
        "    if modelname == 'resnet18':\n",
        "      model = torchvision.models.resnet18(pretrained=pretrained)\n",
        "    else:\n",
        "      model = torchvision.models.resnet50(pretrained=pretrained)\n",
        "    model.fc = nn.Flatten() # the layer before is [m,n,1,1] but we only need [m,n]\n",
        "     # nn.Identity() also works\n",
        "\n",
        "    ### END CODE HERE ###\n",
        "    return model\n",
        "\n",
        "def run_knn_hp_tuning(model, train_loader, test_loader,\n",
        "                        range_k = [5, 10, 15, 20], device='cpu', modelname='resnet18'):\n",
        "    train_acc_all = []\n",
        "    val_acc_all = []\n",
        "    \n",
        "    knn_cls = mymodels.knnconnect.KnnConvnet(model, device)\n",
        "\n",
        "    ### START CODE HERE ### (> 10 lines)\n",
        "    for k in range_k:\n",
        "  \n",
        "      train_acc, test_acc = knn_cls.execute(train_loader, test_loader, k=k)\n",
        "      train_acc_all.append(train_acc)\n",
        "      val_acc_all.append(test_acc)\n",
        "  \n",
        "    ### END CODE HERE ###\n",
        "\n",
        "    return train_acc_all, val_acc_all"
      ],
      "metadata": {
        "id": "ebNKWIu5ZI0b"
      },
      "execution_count": 5,
      "outputs": []
    },
    {
      "cell_type": "code",
      "execution_count": null,
      "metadata": {
        "id": "KxWpJmHkzTPa",
        "colab": {
          "base_uri": "https://localhost:8080/",
          "height": 661,
          "referenced_widgets": [
            "27b568c7811b482c80ad67dbbb449c74",
            "d5f07106b98b4c219910a15cbebea324",
            "d2c12bf021cb4051aad232e96cd58688",
            "559127195d5a419682d84a888d7a193f",
            "25dc27a105774b6caee53e8043f7a575",
            "50ae9465b57549eaac82576376c576f0",
            "312e114a95134f49a0d807020ab6a532",
            "603f8e5d4ae34c7baff845beee688414",
            "af3fe6c0045b4b6697ae3e9a4e8fa49a",
            "f63624799bab485cb95a7d364f1dbdea",
            "01c299f3ac5c4ba8b431614f74e27986",
            "53fda3b269be421482eb5be2119e9755",
            "dd4cd1ae19ba49a5aaa7077ce50bb113",
            "7b4eca57019d4048aae41e8f4bfc7035",
            "c5e3d8a116ab4b9e90de93303365d9d8",
            "246156bc8b9a4131a0b687c86c369bff",
            "f80a3acc62494302a17b5256563ca60f",
            "49a37e35518344c1ad26420bca1729f8",
            "59568f022b57492a9ccd5312f773a2d0",
            "ea2b6a95416645e8a620dcd84b1ca8f2",
            "403d25bb458d49768c2813633bb70439",
            "bfc77cc8bbf14bb1ae5c7d2e7dccc5f2"
          ]
        },
        "outputId": "71534a19-757a-4695-b2f8-bb54a124de58"
      },
      "outputs": [
        {
          "output_type": "stream",
          "name": "stderr",
          "text": [
            "/usr/local/lib/python3.8/dist-packages/torchvision/models/_utils.py:208: UserWarning: The parameter 'pretrained' is deprecated since 0.13 and may be removed in the future, please use 'weights' instead.\n",
            "  warnings.warn(\n",
            "/usr/local/lib/python3.8/dist-packages/torchvision/models/_utils.py:223: UserWarning: Arguments other than a weight enum or `None` for 'weights' are deprecated since 0.13 and may be removed in the future. The current behavior is equivalent to passing `weights=ResNet18_Weights.IMAGENET1K_V1`. You can also use `weights=ResNet18_Weights.DEFAULT` to get the most up-to-date weights.\n",
            "  warnings.warn(msg)\n",
            "Downloading: \"https://download.pytorch.org/models/resnet18-f37072fd.pth\" to /root/.cache/torch/hub/checkpoints/resnet18-f37072fd.pth\n"
          ]
        },
        {
          "output_type": "display_data",
          "data": {
            "text/plain": [
              "  0%|          | 0.00/44.7M [00:00<?, ?B/s]"
            ],
            "application/vnd.jupyter.widget-view+json": {
              "version_major": 2,
              "version_minor": 0,
              "model_id": "27b568c7811b482c80ad67dbbb449c74"
            }
          },
          "metadata": {}
        },
        {
          "output_type": "stream",
          "name": "stderr",
          "text": [
            "/usr/local/lib/python3.8/dist-packages/torchvision/models/_utils.py:223: UserWarning: Arguments other than a weight enum or `None` for 'weights' are deprecated since 0.13 and may be removed in the future. The current behavior is equivalent to passing `weights=ResNet50_Weights.IMAGENET1K_V1`. You can also use `weights=ResNet50_Weights.DEFAULT` to get the most up-to-date weights.\n",
            "  warnings.warn(msg)\n",
            "Downloading: \"https://download.pytorch.org/models/resnet50-0676ba61.pth\" to /root/.cache/torch/hub/checkpoints/resnet50-0676ba61.pth\n"
          ]
        },
        {
          "output_type": "display_data",
          "data": {
            "text/plain": [
              "  0%|          | 0.00/97.8M [00:00<?, ?B/s]"
            ],
            "application/vnd.jupyter.widget-view+json": {
              "version_major": 2,
              "version_minor": 0,
              "model_id": "53fda3b269be421482eb5be2119e9755"
            }
          },
          "metadata": {}
        },
        {
          "output_type": "error",
          "ename": "KeyboardInterrupt",
          "evalue": "ignored",
          "traceback": [
            "\u001b[0;31m---------------------------------------------------------------------------\u001b[0m",
            "\u001b[0;31mKeyboardInterrupt\u001b[0m                         Traceback (most recent call last)",
            "\u001b[0;32m<ipython-input-6-69153c322184>\u001b[0m in \u001b[0;36m<module>\u001b[0;34m\u001b[0m\n\u001b[1;32m     16\u001b[0m \u001b[0;34m\u001b[0m\u001b[0m\n\u001b[1;32m     17\u001b[0m \u001b[0mrange_k\u001b[0m \u001b[0;34m=\u001b[0m \u001b[0;34m[\u001b[0m\u001b[0;36m5\u001b[0m\u001b[0;34m,\u001b[0m\u001b[0;36m10\u001b[0m\u001b[0;34m,\u001b[0m\u001b[0;36m15\u001b[0m\u001b[0;34m,\u001b[0m\u001b[0;36m20\u001b[0m\u001b[0;34m]\u001b[0m\u001b[0;34m\u001b[0m\u001b[0;34m\u001b[0m\u001b[0m\n\u001b[0;32m---> 18\u001b[0;31m train_acc_r18, val_acc_r18 = run_knn_hp_tuning(backbone_r18, train_loader_plain2,\n\u001b[0m\u001b[1;32m     19\u001b[0m     val_loader, range_k, DEVICE, modelname=\"resnet18\")\n\u001b[1;32m     20\u001b[0m \u001b[0;34m\u001b[0m\u001b[0m\n",
            "\u001b[0;32m<ipython-input-4-c131380ff216>\u001b[0m in \u001b[0;36mrun_knn_hp_tuning\u001b[0;34m(model, train_loader, test_loader, range_k, device, modelname)\u001b[0m\n\u001b[1;32m     20\u001b[0m     \u001b[0;32mfor\u001b[0m \u001b[0mk\u001b[0m \u001b[0;32min\u001b[0m \u001b[0mrange_k\u001b[0m\u001b[0;34m:\u001b[0m\u001b[0;34m\u001b[0m\u001b[0;34m\u001b[0m\u001b[0m\n\u001b[1;32m     21\u001b[0m \u001b[0;34m\u001b[0m\u001b[0m\n\u001b[0;32m---> 22\u001b[0;31m       \u001b[0mtrain_acc\u001b[0m\u001b[0;34m,\u001b[0m \u001b[0mtest_acc\u001b[0m \u001b[0;34m=\u001b[0m \u001b[0mknn_cls\u001b[0m\u001b[0;34m.\u001b[0m\u001b[0mexecute\u001b[0m\u001b[0;34m(\u001b[0m\u001b[0mtrain_loader\u001b[0m\u001b[0;34m,\u001b[0m \u001b[0mtest_loader\u001b[0m\u001b[0;34m,\u001b[0m \u001b[0mk\u001b[0m\u001b[0;34m=\u001b[0m\u001b[0mk\u001b[0m\u001b[0;34m)\u001b[0m\u001b[0;34m\u001b[0m\u001b[0;34m\u001b[0m\u001b[0m\n\u001b[0m\u001b[1;32m     23\u001b[0m       \u001b[0mtrain_acc_all\u001b[0m\u001b[0;34m.\u001b[0m\u001b[0mappend\u001b[0m\u001b[0;34m(\u001b[0m\u001b[0mtrain_acc\u001b[0m\u001b[0;34m)\u001b[0m\u001b[0;34m\u001b[0m\u001b[0;34m\u001b[0m\u001b[0m\n\u001b[1;32m     24\u001b[0m       \u001b[0mval_acc_all\u001b[0m\u001b[0;34m.\u001b[0m\u001b[0mappend\u001b[0m\u001b[0;34m(\u001b[0m\u001b[0mtest_acc\u001b[0m\u001b[0;34m)\u001b[0m\u001b[0;34m\u001b[0m\u001b[0;34m\u001b[0m\u001b[0m\n",
            "\u001b[0;32m/usr/local/lib/python3.8/dist-packages/torch/autograd/grad_mode.py\u001b[0m in \u001b[0;36mdecorate_context\u001b[0;34m(*args, **kwargs)\u001b[0m\n\u001b[1;32m     25\u001b[0m         \u001b[0;32mdef\u001b[0m \u001b[0mdecorate_context\u001b[0m\u001b[0;34m(\u001b[0m\u001b[0;34m*\u001b[0m\u001b[0margs\u001b[0m\u001b[0;34m,\u001b[0m \u001b[0;34m**\u001b[0m\u001b[0mkwargs\u001b[0m\u001b[0;34m)\u001b[0m\u001b[0;34m:\u001b[0m\u001b[0;34m\u001b[0m\u001b[0;34m\u001b[0m\u001b[0m\n\u001b[1;32m     26\u001b[0m             \u001b[0;32mwith\u001b[0m \u001b[0mself\u001b[0m\u001b[0;34m.\u001b[0m\u001b[0mclone\u001b[0m\u001b[0;34m(\u001b[0m\u001b[0;34m)\u001b[0m\u001b[0;34m:\u001b[0m\u001b[0;34m\u001b[0m\u001b[0;34m\u001b[0m\u001b[0m\n\u001b[0;32m---> 27\u001b[0;31m                 \u001b[0;32mreturn\u001b[0m \u001b[0mfunc\u001b[0m\u001b[0;34m(\u001b[0m\u001b[0;34m*\u001b[0m\u001b[0margs\u001b[0m\u001b[0;34m,\u001b[0m \u001b[0;34m**\u001b[0m\u001b[0mkwargs\u001b[0m\u001b[0;34m)\u001b[0m\u001b[0;34m\u001b[0m\u001b[0;34m\u001b[0m\u001b[0m\n\u001b[0m\u001b[1;32m     28\u001b[0m         \u001b[0;32mreturn\u001b[0m \u001b[0mcast\u001b[0m\u001b[0;34m(\u001b[0m\u001b[0mF\u001b[0m\u001b[0;34m,\u001b[0m \u001b[0mdecorate_context\u001b[0m\u001b[0;34m)\u001b[0m\u001b[0;34m\u001b[0m\u001b[0;34m\u001b[0m\u001b[0m\n\u001b[1;32m     29\u001b[0m \u001b[0;34m\u001b[0m\u001b[0m\n",
            "\u001b[0;32m/content/DL_09_Transfer_learning/mymodels/knnconnect.py\u001b[0m in \u001b[0;36mexecute\u001b[0;34m(self, train_loader, test_loader, k)\u001b[0m\n\u001b[1;32m    101\u001b[0m \u001b[0;34m\u001b[0m\u001b[0m\n\u001b[1;32m    102\u001b[0m         \u001b[0mself\u001b[0m\u001b[0;34m.\u001b[0m\u001b[0mfit\u001b[0m\u001b[0;34m(\u001b[0m\u001b[0mself\u001b[0m\u001b[0;34m.\u001b[0m\u001b[0membeds_train\u001b[0m\u001b[0;34m,\u001b[0m \u001b[0mself\u001b[0m\u001b[0;34m.\u001b[0m\u001b[0mlab_train\u001b[0m\u001b[0;34m,\u001b[0m \u001b[0mk\u001b[0m\u001b[0;34m)\u001b[0m\u001b[0;34m\u001b[0m\u001b[0;34m\u001b[0m\u001b[0m\n\u001b[0;32m--> 103\u001b[0;31m         \u001b[0mtrain_acc\u001b[0m \u001b[0;34m=\u001b[0m \u001b[0mself\u001b[0m\u001b[0;34m.\u001b[0m\u001b[0mpredict\u001b[0m\u001b[0;34m(\u001b[0m\u001b[0mself\u001b[0m\u001b[0;34m.\u001b[0m\u001b[0membeds_train\u001b[0m\u001b[0;34m,\u001b[0m \u001b[0mself\u001b[0m\u001b[0;34m.\u001b[0m\u001b[0mlab_train\u001b[0m\u001b[0;34m)\u001b[0m\u001b[0;34m\u001b[0m\u001b[0;34m\u001b[0m\u001b[0m\n\u001b[0m\u001b[1;32m    104\u001b[0m \u001b[0;34m\u001b[0m\u001b[0m\n\u001b[1;32m    105\u001b[0m \u001b[0;34m\u001b[0m\u001b[0m\n",
            "\u001b[0;32m/content/DL_09_Transfer_learning/mymodels/knnconnect.py\u001b[0m in \u001b[0;36mpredict\u001b[0;34m(self, features, labels)\u001b[0m\n\u001b[1;32m     87\u001b[0m         \u001b[0;34m\"\"\"Uses the features to compute the accuracy of the classifier (self.cls object).\"\"\"\u001b[0m\u001b[0;34m\u001b[0m\u001b[0;34m\u001b[0m\u001b[0m\n\u001b[1;32m     88\u001b[0m         \u001b[0;31m### START CODE HERE ### (approx. 2 lines)\u001b[0m\u001b[0;34m\u001b[0m\u001b[0;34m\u001b[0m\u001b[0;34m\u001b[0m\u001b[0m\n\u001b[0;32m---> 89\u001b[0;31m         \u001b[0mprediction\u001b[0m \u001b[0;34m=\u001b[0m \u001b[0mself\u001b[0m\u001b[0;34m.\u001b[0m\u001b[0mknnClassifier\u001b[0m\u001b[0;34m.\u001b[0m\u001b[0mpredict\u001b[0m\u001b[0;34m(\u001b[0m\u001b[0mfeatures\u001b[0m\u001b[0;34m.\u001b[0m\u001b[0mcpu\u001b[0m\u001b[0;34m(\u001b[0m\u001b[0;34m)\u001b[0m\u001b[0;34m.\u001b[0m\u001b[0mnumpy\u001b[0m\u001b[0;34m(\u001b[0m\u001b[0;34m)\u001b[0m\u001b[0;34m)\u001b[0m\u001b[0;34m\u001b[0m\u001b[0;34m\u001b[0m\u001b[0m\n\u001b[0m\u001b[1;32m     90\u001b[0m         \u001b[0mprediction\u001b[0m \u001b[0;34m=\u001b[0m \u001b[0mtorch\u001b[0m\u001b[0;34m.\u001b[0m\u001b[0mtensor\u001b[0m\u001b[0;34m(\u001b[0m\u001b[0mprediction\u001b[0m\u001b[0;34m)\u001b[0m\u001b[0;34m\u001b[0m\u001b[0;34m\u001b[0m\u001b[0m\n\u001b[1;32m     91\u001b[0m         \u001b[0macc\u001b[0m \u001b[0;34m=\u001b[0m \u001b[0;34m(\u001b[0m\u001b[0mprediction\u001b[0m \u001b[0;34m==\u001b[0m \u001b[0mtorch\u001b[0m\u001b[0;34m.\u001b[0m\u001b[0mreshape\u001b[0m\u001b[0;34m(\u001b[0m\u001b[0mlabels\u001b[0m\u001b[0;34m,\u001b[0m\u001b[0;34m(\u001b[0m\u001b[0;34m-\u001b[0m\u001b[0;36m1\u001b[0m\u001b[0;34m,\u001b[0m\u001b[0;34m)\u001b[0m \u001b[0;34m)\u001b[0m\u001b[0;34m)\u001b[0m\u001b[0;34m.\u001b[0m\u001b[0msum\u001b[0m\u001b[0;34m(\u001b[0m\u001b[0;34m)\u001b[0m\u001b[0;34m.\u001b[0m\u001b[0mitem\u001b[0m\u001b[0;34m(\u001b[0m\u001b[0;34m)\u001b[0m \u001b[0;34m/\u001b[0m \u001b[0mlabels\u001b[0m\u001b[0;34m.\u001b[0m\u001b[0mshape\u001b[0m\u001b[0;34m[\u001b[0m\u001b[0;36m0\u001b[0m\u001b[0;34m]\u001b[0m\u001b[0;34m\u001b[0m\u001b[0;34m\u001b[0m\u001b[0m\n",
            "\u001b[0;32m/usr/local/lib/python3.8/dist-packages/sklearn/neighbors/_classification.py\u001b[0m in \u001b[0;36mpredict\u001b[0;34m(self, X)\u001b[0m\n\u001b[1;32m    212\u001b[0m             \u001b[0mClass\u001b[0m \u001b[0mlabels\u001b[0m \u001b[0;32mfor\u001b[0m \u001b[0meach\u001b[0m \u001b[0mdata\u001b[0m \u001b[0msample\u001b[0m\u001b[0;34m.\u001b[0m\u001b[0;34m\u001b[0m\u001b[0;34m\u001b[0m\u001b[0m\n\u001b[1;32m    213\u001b[0m         \"\"\"\n\u001b[0;32m--> 214\u001b[0;31m         \u001b[0mneigh_dist\u001b[0m\u001b[0;34m,\u001b[0m \u001b[0mneigh_ind\u001b[0m \u001b[0;34m=\u001b[0m \u001b[0mself\u001b[0m\u001b[0;34m.\u001b[0m\u001b[0mkneighbors\u001b[0m\u001b[0;34m(\u001b[0m\u001b[0mX\u001b[0m\u001b[0;34m)\u001b[0m\u001b[0;34m\u001b[0m\u001b[0;34m\u001b[0m\u001b[0m\n\u001b[0m\u001b[1;32m    215\u001b[0m         \u001b[0mclasses_\u001b[0m \u001b[0;34m=\u001b[0m \u001b[0mself\u001b[0m\u001b[0;34m.\u001b[0m\u001b[0mclasses_\u001b[0m\u001b[0;34m\u001b[0m\u001b[0;34m\u001b[0m\u001b[0m\n\u001b[1;32m    216\u001b[0m         \u001b[0m_y\u001b[0m \u001b[0;34m=\u001b[0m \u001b[0mself\u001b[0m\u001b[0;34m.\u001b[0m\u001b[0m_y\u001b[0m\u001b[0;34m\u001b[0m\u001b[0;34m\u001b[0m\u001b[0m\n",
            "\u001b[0;32m/usr/local/lib/python3.8/dist-packages/sklearn/neighbors/_base.py\u001b[0m in \u001b[0;36mkneighbors\u001b[0;34m(self, X, n_neighbors, return_distance)\u001b[0m\n\u001b[1;32m    750\u001b[0m                 \u001b[0mkwds\u001b[0m \u001b[0;34m=\u001b[0m \u001b[0mself\u001b[0m\u001b[0;34m.\u001b[0m\u001b[0meffective_metric_params_\u001b[0m\u001b[0;34m\u001b[0m\u001b[0;34m\u001b[0m\u001b[0m\n\u001b[1;32m    751\u001b[0m \u001b[0;34m\u001b[0m\u001b[0m\n\u001b[0;32m--> 752\u001b[0;31m             chunked_results = list(\n\u001b[0m\u001b[1;32m    753\u001b[0m                 pairwise_distances_chunked(\n\u001b[1;32m    754\u001b[0m                     \u001b[0mX\u001b[0m\u001b[0;34m,\u001b[0m\u001b[0;34m\u001b[0m\u001b[0;34m\u001b[0m\u001b[0m\n",
            "\u001b[0;32m/usr/local/lib/python3.8/dist-packages/sklearn/metrics/pairwise.py\u001b[0m in \u001b[0;36mpairwise_distances_chunked\u001b[0;34m(X, Y, reduce_func, metric, n_jobs, working_memory, **kwds)\u001b[0m\n\u001b[1;32m   1724\u001b[0m         \u001b[0;32mif\u001b[0m \u001b[0mreduce_func\u001b[0m \u001b[0;32mis\u001b[0m \u001b[0;32mnot\u001b[0m \u001b[0;32mNone\u001b[0m\u001b[0;34m:\u001b[0m\u001b[0;34m\u001b[0m\u001b[0;34m\u001b[0m\u001b[0m\n\u001b[1;32m   1725\u001b[0m             \u001b[0mchunk_size\u001b[0m \u001b[0;34m=\u001b[0m \u001b[0mD_chunk\u001b[0m\u001b[0;34m.\u001b[0m\u001b[0mshape\u001b[0m\u001b[0;34m[\u001b[0m\u001b[0;36m0\u001b[0m\u001b[0;34m]\u001b[0m\u001b[0;34m\u001b[0m\u001b[0;34m\u001b[0m\u001b[0m\n\u001b[0;32m-> 1726\u001b[0;31m             \u001b[0mD_chunk\u001b[0m \u001b[0;34m=\u001b[0m \u001b[0mreduce_func\u001b[0m\u001b[0;34m(\u001b[0m\u001b[0mD_chunk\u001b[0m\u001b[0;34m,\u001b[0m \u001b[0msl\u001b[0m\u001b[0;34m.\u001b[0m\u001b[0mstart\u001b[0m\u001b[0;34m)\u001b[0m\u001b[0;34m\u001b[0m\u001b[0;34m\u001b[0m\u001b[0m\n\u001b[0m\u001b[1;32m   1727\u001b[0m             \u001b[0m_check_chunk_size\u001b[0m\u001b[0;34m(\u001b[0m\u001b[0mD_chunk\u001b[0m\u001b[0;34m,\u001b[0m \u001b[0mchunk_size\u001b[0m\u001b[0;34m)\u001b[0m\u001b[0;34m\u001b[0m\u001b[0;34m\u001b[0m\u001b[0m\n\u001b[1;32m   1728\u001b[0m         \u001b[0;32myield\u001b[0m \u001b[0mD_chunk\u001b[0m\u001b[0;34m\u001b[0m\u001b[0;34m\u001b[0m\u001b[0m\n",
            "\u001b[0;32m/usr/local/lib/python3.8/dist-packages/sklearn/neighbors/_base.py\u001b[0m in \u001b[0;36m_kneighbors_reduce_func\u001b[0;34m(self, dist, start, n_neighbors, return_distance)\u001b[0m\n\u001b[1;32m    632\u001b[0m         \"\"\"\n\u001b[1;32m    633\u001b[0m         \u001b[0msample_range\u001b[0m \u001b[0;34m=\u001b[0m \u001b[0mnp\u001b[0m\u001b[0;34m.\u001b[0m\u001b[0marange\u001b[0m\u001b[0;34m(\u001b[0m\u001b[0mdist\u001b[0m\u001b[0;34m.\u001b[0m\u001b[0mshape\u001b[0m\u001b[0;34m[\u001b[0m\u001b[0;36m0\u001b[0m\u001b[0;34m]\u001b[0m\u001b[0;34m)\u001b[0m\u001b[0;34m[\u001b[0m\u001b[0;34m:\u001b[0m\u001b[0;34m,\u001b[0m \u001b[0;32mNone\u001b[0m\u001b[0;34m]\u001b[0m\u001b[0;34m\u001b[0m\u001b[0;34m\u001b[0m\u001b[0m\n\u001b[0;32m--> 634\u001b[0;31m         \u001b[0mneigh_ind\u001b[0m \u001b[0;34m=\u001b[0m \u001b[0mnp\u001b[0m\u001b[0;34m.\u001b[0m\u001b[0margpartition\u001b[0m\u001b[0;34m(\u001b[0m\u001b[0mdist\u001b[0m\u001b[0;34m,\u001b[0m \u001b[0mn_neighbors\u001b[0m \u001b[0;34m-\u001b[0m \u001b[0;36m1\u001b[0m\u001b[0;34m,\u001b[0m \u001b[0maxis\u001b[0m\u001b[0;34m=\u001b[0m\u001b[0;36m1\u001b[0m\u001b[0;34m)\u001b[0m\u001b[0;34m\u001b[0m\u001b[0;34m\u001b[0m\u001b[0m\n\u001b[0m\u001b[1;32m    635\u001b[0m         \u001b[0mneigh_ind\u001b[0m \u001b[0;34m=\u001b[0m \u001b[0mneigh_ind\u001b[0m\u001b[0;34m[\u001b[0m\u001b[0;34m:\u001b[0m\u001b[0;34m,\u001b[0m \u001b[0;34m:\u001b[0m\u001b[0mn_neighbors\u001b[0m\u001b[0;34m]\u001b[0m\u001b[0;34m\u001b[0m\u001b[0;34m\u001b[0m\u001b[0m\n\u001b[1;32m    636\u001b[0m         \u001b[0;31m# argpartition doesn't guarantee sorted order, so we sort again\u001b[0m\u001b[0;34m\u001b[0m\u001b[0;34m\u001b[0m\u001b[0;34m\u001b[0m\u001b[0m\n",
            "\u001b[0;32m<__array_function__ internals>\u001b[0m in \u001b[0;36margpartition\u001b[0;34m(*args, **kwargs)\u001b[0m\n",
            "\u001b[0;32m/usr/local/lib/python3.8/dist-packages/numpy/core/fromnumeric.py\u001b[0m in \u001b[0;36margpartition\u001b[0;34m(a, kth, axis, kind, order)\u001b[0m\n\u001b[1;32m    837\u001b[0m \u001b[0;34m\u001b[0m\u001b[0m\n\u001b[1;32m    838\u001b[0m     \"\"\"\n\u001b[0;32m--> 839\u001b[0;31m     \u001b[0;32mreturn\u001b[0m \u001b[0m_wrapfunc\u001b[0m\u001b[0;34m(\u001b[0m\u001b[0ma\u001b[0m\u001b[0;34m,\u001b[0m \u001b[0;34m'argpartition'\u001b[0m\u001b[0;34m,\u001b[0m \u001b[0mkth\u001b[0m\u001b[0;34m,\u001b[0m \u001b[0maxis\u001b[0m\u001b[0;34m=\u001b[0m\u001b[0maxis\u001b[0m\u001b[0;34m,\u001b[0m \u001b[0mkind\u001b[0m\u001b[0;34m=\u001b[0m\u001b[0mkind\u001b[0m\u001b[0;34m,\u001b[0m \u001b[0morder\u001b[0m\u001b[0;34m=\u001b[0m\u001b[0morder\u001b[0m\u001b[0;34m)\u001b[0m\u001b[0;34m\u001b[0m\u001b[0;34m\u001b[0m\u001b[0m\n\u001b[0m\u001b[1;32m    840\u001b[0m \u001b[0;34m\u001b[0m\u001b[0m\n\u001b[1;32m    841\u001b[0m \u001b[0;34m\u001b[0m\u001b[0m\n",
            "\u001b[0;32m/usr/local/lib/python3.8/dist-packages/numpy/core/fromnumeric.py\u001b[0m in \u001b[0;36m_wrapfunc\u001b[0;34m(obj, method, *args, **kwds)\u001b[0m\n\u001b[1;32m     55\u001b[0m \u001b[0;34m\u001b[0m\u001b[0m\n\u001b[1;32m     56\u001b[0m     \u001b[0;32mtry\u001b[0m\u001b[0;34m:\u001b[0m\u001b[0;34m\u001b[0m\u001b[0;34m\u001b[0m\u001b[0m\n\u001b[0;32m---> 57\u001b[0;31m         \u001b[0;32mreturn\u001b[0m \u001b[0mbound\u001b[0m\u001b[0;34m(\u001b[0m\u001b[0;34m*\u001b[0m\u001b[0margs\u001b[0m\u001b[0;34m,\u001b[0m \u001b[0;34m**\u001b[0m\u001b[0mkwds\u001b[0m\u001b[0;34m)\u001b[0m\u001b[0;34m\u001b[0m\u001b[0;34m\u001b[0m\u001b[0m\n\u001b[0m\u001b[1;32m     58\u001b[0m     \u001b[0;32mexcept\u001b[0m \u001b[0mTypeError\u001b[0m\u001b[0;34m:\u001b[0m\u001b[0;34m\u001b[0m\u001b[0;34m\u001b[0m\u001b[0m\n\u001b[1;32m     59\u001b[0m         \u001b[0;31m# A TypeError occurs if the object does have such a method in its\u001b[0m\u001b[0;34m\u001b[0m\u001b[0;34m\u001b[0m\u001b[0;34m\u001b[0m\u001b[0m\n",
            "\u001b[0;31mKeyboardInterrupt\u001b[0m: "
          ]
        }
      ],
      "source": [
        "train_loader_plain2 = data.DataLoader(dataset=train_ds_plain, batch_size=256, \n",
        "                                      shuffle=True, drop_last=False)\n",
        "val_loader = data.DataLoader(dataset=val_ds, batch_size=256, \n",
        "                             shuffle=False, drop_last=False)\n",
        "\n",
        "backbone_r18 = get_model(\"resnet18\")\n",
        "backbone_r50 = get_model(\"resnet50\")\n",
        "\n",
        "range_k = [5,10,15,20]\n",
        "train_acc_r18, val_acc_r18 = run_knn_hp_tuning(backbone_r18, train_loader_plain2,\n",
        "    val_loader, range_k, DEVICE, modelname=\"resnet18\")\n",
        "\n",
        "train_acc_r50, val_acc_r50 = run_knn_hp_tuning(backbone_r50, train_loader_plain2,\n",
        "    val_loader, range_k, DEVICE, modelname=\"resnet50\")"
      ]
    },
    {
      "cell_type": "code",
      "execution_count": null,
      "metadata": {
        "id": "moRACQS3zTPb"
      },
      "outputs": [],
      "source": [
        "def plot_knn_accs(range_k, train_acc_all, val_acc_all,  modelname='resnet18'):\n",
        "    plt.plot(range_k, train_acc_all, marker='o', label=f'{modelname} train acc %')\n",
        "    plt.plot(range_k , val_acc_all, marker='x', label=f\"{modelname} val. acc %\")\n",
        "\n",
        "plt.figure(figsize=(12, 6))\n",
        "plot_knn_accs(range_k, train_acc_r18, val_acc_r18,  modelname='resnet18')\n",
        "plot_knn_accs(range_k, train_acc_r50, val_acc_r50,  modelname='resnet50')\n",
        "plt.legend( bbox_to_anchor=(1,1), loc=\"upper left\")\n",
        "plt.grid()\n",
        "plt.xticks([]) # hides x axis\n",
        "plt.xlabel(\"k\")\n",
        "plt.ylabel(f\"Accuracy %\")\n",
        "plt.title(\"Benhmarking resnet18 and resnet50 embeddings with KNN\")\n",
        "plt.savefig(\"./figs/knn_accs_res_.png\", dpi=400, bbox_inches='tight')\n",
        "plt.show()"
      ]
    },
    {
      "cell_type": "markdown",
      "metadata": {
        "id": "nhGpKJZ4Zpwn"
      },
      "source": [
        "# Task 3: Train an MLP on the extracted image features from resnet50\n",
        "\n",
        "- Create new datasets and dataloaders that return a pair of (features, labels) from resnet50 instead of the image. \n",
        "\n",
        "Since we have precomputed the features, you can use `torch.load` here to load the features and labels and `torch.utils.data.TensorDataset` to make a dataset.\n",
        "\n",
        "- Train a 2-layer MLP with a ReLU activation on the extracted features from the pretrained resnet50 as input data. \n",
        "- Train for at least 100 epochs with Adam.\n",
        "- Expected val accuracy is 84%\n",
        "\n",
        "Hint: For small models, just nn.Sequential produces a fully functioning model. You don't need to define an extra class here."
      ]
    },
    {
      "cell_type": "code",
      "source": [
        "# load embeds from hard disk\n",
        "!git pull\n",
        "import importlib\n",
        "importlib.reload(ds)\n",
        "importlib.reload(mymodels.knnconnect)\n",
        "\n",
        "\n",
        "\n",
        "train_loader = torch.utils.data.DataLoader(\n",
        "        dataset=train_ds_plain, batch_size=1024, shuffle=True, drop_last=False\n",
        "    )\n",
        "val_loader = torch.utils.data.DataLoader(\n",
        "        dataset=val_ds, batch_size=1024, shuffle=False, drop_last=False\n",
        "    )\n",
        "\n",
        "\n",
        "model   = get_model(\"resnet50\")\n",
        "knn_50 = mymodels.knnconnect.KnnConvnet(model, device=DEVICE)\n",
        "\n",
        "x_train, y_train = knn_50.extract_features(train_loader) # One forward pass and get the output\n",
        "x_val, y_val = knn_50.extract_features(val_loader)"
      ],
      "metadata": {
        "colab": {
          "base_uri": "https://localhost:8080/"
        },
        "id": "EKNipnxv0veU",
        "outputId": "dd5b210a-9191-4e15-8718-a6691b92d215"
      },
      "execution_count": 6,
      "outputs": [
        {
          "output_type": "stream",
          "name": "stdout",
          "text": [
            "Already up to date.\n"
          ]
        },
        {
          "output_type": "stream",
          "name": "stderr",
          "text": [
            "/usr/local/lib/python3.8/dist-packages/torchvision/models/_utils.py:208: UserWarning: The parameter 'pretrained' is deprecated since 0.13 and may be removed in the future, please use 'weights' instead.\n",
            "  warnings.warn(\n",
            "/usr/local/lib/python3.8/dist-packages/torchvision/models/_utils.py:223: UserWarning: Arguments other than a weight enum or `None` for 'weights' are deprecated since 0.13 and may be removed in the future. The current behavior is equivalent to passing `weights=ResNet50_Weights.IMAGENET1K_V1`. You can also use `weights=ResNet50_Weights.DEFAULT` to get the most up-to-date weights.\n",
            "  warnings.warn(msg)\n"
          ]
        }
      ]
    },
    {
      "cell_type": "code",
      "source": [
        "import data.customdataset as custom_ds\n",
        "train_ds      = custom_ds.CustomDataset(x_train, y_train)\n",
        "train_loader  = torch.utils.data.DataLoader(train_ds, batch_size=BATCH_SIZE, shuffle=True)\n",
        "\n",
        "val_ds        = custom_ds.CustomDataset(x_val, y_val)\n",
        "val_loader    = torch.utils.data.DataLoader(val_ds, batch_size=BATCH_SIZE, shuffle=False)"
      ],
      "metadata": {
        "id": "vxam_biD32JD"
      },
      "execution_count": 7,
      "outputs": []
    },
    {
      "cell_type": "code",
      "source": [
        "train_ds.__len__()"
      ],
      "metadata": {
        "colab": {
          "base_uri": "https://localhost:8080/"
        },
        "id": "Pjfgren3_u41",
        "outputId": "05037047-c516-4425-d7cf-5332656c2fb9"
      },
      "execution_count": 10,
      "outputs": [
        {
          "output_type": "execute_result",
          "data": {
            "text/plain": [
              "89996"
            ]
          },
          "metadata": {},
          "execution_count": 10
        }
      ]
    },
    {
      "cell_type": "code",
      "source": [
        "len(train_ds_plain.info['label'])"
      ],
      "metadata": {
        "colab": {
          "base_uri": "https://localhost:8080/"
        },
        "id": "J85l7boDxcAF",
        "outputId": "b8c346f2-c067-42ca-db0f-2ab87dd6aec4"
      },
      "execution_count": 11,
      "outputs": [
        {
          "output_type": "execute_result",
          "data": {
            "text/plain": [
              "9"
            ]
          },
          "metadata": {},
          "execution_count": 11
        }
      ]
    },
    {
      "cell_type": "code",
      "source": [
        "x_train.shape"
      ],
      "metadata": {
        "colab": {
          "base_uri": "https://localhost:8080/"
        },
        "id": "S6S4-8wB9MkJ",
        "outputId": "f0a641ab-af06-494f-f40d-fce90aa08b2e"
      },
      "execution_count": 12,
      "outputs": [
        {
          "output_type": "execute_result",
          "data": {
            "text/plain": [
              "torch.Size([89996, 2048])"
            ]
          },
          "metadata": {},
          "execution_count": 12
        }
      ]
    },
    {
      "cell_type": "code",
      "execution_count": 10,
      "metadata": {
        "id": "exAI0NGFZpHS",
        "colab": {
          "base_uri": "https://localhost:8080/",
          "height": 568
        },
        "outputId": "c8906296-88cd-4e48-9971-869380947fd9"
      },
      "outputs": [
        {
          "output_type": "stream",
          "name": "stdout",
          "text": [
            "Init Accuracy of the model: Train:4.404 \t Val:4.278289\n"
          ]
        },
        {
          "output_type": "stream",
          "name": "stderr",
          "text": [
            "Ep 99/100: Accuracy : Train:86.18 \t Val:82.90 || Loss: Train 0.375 \t Val 0.486: 100%|██████████| 100/100 [01:49<00:00,  1.09s/it]\n"
          ]
        },
        {
          "output_type": "display_data",
          "data": {
            "text/plain": [
              "<Figure size 864x576 with 2 Axes>"
            ],
            "image/png": "[encoded data removed]"
          },
          "metadata": {
            "needs_background": "light"
          }
        },
        {
          "output_type": "stream",
          "name": "stdout",
          "text": [
            "Best val. acc 83.20672\n"
          ]
        }
      ],
      "source": [
        "\n",
        "import mymodels.minimodelMLP as mlp\n",
        "num_epochs = 100\n",
        "\n",
        "model = mlp.MiniModel(x_train.shape[1]).to(DEVICE)\n",
        "optimizer=torch.optim.Adam(model.parameters(),lr=3e-4, weight_decay=0.0001)\n",
        "dict_log = train(model, optimizer, num_epochs, train_loader, val_loader, DEVICE)\n",
        "# dict_log = train(model, optimizer, num_epochs, train_loader_features, val_loader_features, device)\n",
        "\n",
        "figsize = (12,8)\n",
        "plt.figure(figsize=figsize)\n",
        "plot_stats(dict_log, baseline=84, modelname=\"MLP/Resnet50\")\n",
        "#plt.savefig(fname=\"./figs/mlp_res50_students_out.png\", dpi=400, bbox_inches='tight')\n",
        "plt.show()\n",
        "print(\"Best val. acc\", np.max(dict_log[\"val_acc_epoch\"]))"
      ]
    },
    {
      "cell_type": "markdown",
      "metadata": {
        "id": "Hp9DQRP0zTPf"
      },
      "source": [
        "# Task 4: Regularization strategies\n",
        "If you trained the model, you should be able to see the overfitting behaviour with a degradation in loss/accuracy towards the end of training.\n",
        "\n",
        "What regularization strategies could you use to prevent the model from overfitting? \n",
        "\n",
        "Experiment with at least 1 regularization strategy (apart from tuning the weight decay) and see if you can further increase the performance.\n",
        "\n",
        "- Does regularization lead to performance improvement?\n",
        "- How do the training dynamics change when training with stronger regularization strategies?"
      ]
    },
    {
      "cell_type": "code",
      "execution_count": 13,
      "metadata": {
        "id": "y_DCERzuzTPg",
        "colab": {
          "base_uri": "https://localhost:8080/",
          "height": 568
        },
        "outputId": "91da6772-3332-4117-b944-7f0769dc1afc"
      },
      "outputs": [
        {
          "output_type": "stream",
          "name": "stdout",
          "text": [
            "Init Accuracy of the model: Train:13.003 \t Val:12.994802\n"
          ]
        },
        {
          "output_type": "stream",
          "name": "stderr",
          "text": [
            "Ep 99/100: Accuracy : Train:84.52 \t Val:83.19 || Loss: Train 0.431 \t Val 0.464: 100%|██████████| 100/100 [01:51<00:00,  1.12s/it]\n"
          ]
        },
        {
          "output_type": "display_data",
          "data": {
            "text/plain": [
              "<Figure size 864x576 with 2 Axes>"
            ],
            "image/png": "[encoded data removed]"
          },
          "metadata": {
            "needs_background": "light"
          }
        },
        {
          "output_type": "stream",
          "name": "stdout",
          "text": [
            "Best val. acc 83.60656\n"
          ]
        }
      ],
      "source": [
        "model = nn.Sequential(nn.Linear(2048, 128), nn.Dropout(0.6), nn.Linear(128, 9),nn.ReLU(inplace=True) )\n",
        "\n",
        "optimizer = torch.optim.Adam(model.parameters(),lr=3e-4, weight_decay=0.0001)\n",
        "\n",
        "num_epochs = 100\n",
        "dict_log = train(model, optimizer, num_epochs, train_loader, val_loader, DEVICE)\n",
        "\n",
        "figsize = (12,8)\n",
        "plt.figure(figsize=figsize)\n",
        "plot_stats(dict_log, baseline=84, modelname=\"MLP/Resnet50\")\n",
        "plt.show()\n",
        "print(\"Best val. acc\", np.max(dict_log[\"val_acc_epoch\"]))"
      ]
    },
    {
      "cell_type": "markdown",
      "metadata": {
        "id": "5z-7i7Z4FNxR"
      },
      "source": [
        "# Task 5: Train the whole model (resnet50) on pathmnist starting from imagenet initialization.\n",
        "\n",
        "Now we will re-train the whole model, using the pretrained weights as a starting point. Also, we add data-augmentation, see below for details.\n",
        "\n",
        "Training data augmentations:\n",
        "- Horizontal flip with 50% probability\n",
        "- Random crop images to 50-100 % of the initial size\n",
        "- Resize images to 28x28\n",
        "- intensity jitter: 20% brightness and 20% contrast with 80% probability\n",
        "- Mean/std norm with mean=0.5 and std=0.5 for all channels\n",
        "\n",
        "At val/test time, only mean/std normalization will be applied.\n",
        "\n",
        "\n",
        "Do the following:\n",
        "- Load a pretrained resnet50. Remove the pretrained head (last layer). Add a two-layer MLP as the new last layer.\n",
        "- Compute the number of trainable and non-trainable parameters.\n",
        "- Train for 20 epochs.\n",
        "- Plot training statistics\n",
        "- Calculate test accuracy!\n",
        "\n",
        "\n",
        "Compare the fine-tuned resnet50 on the pathmnist dataset with the previously trained MLP on the extracted features.\n",
        "\n",
        "Expected val. acc is 95%"
      ]
    },
    {
      "cell_type": "code",
      "source": [
        "# aoueaueaouueaou eaouteuhseanohu  "
      ],
      "metadata": {
        "id": "Tn47y4HHixyr"
      },
      "execution_count": null,
      "outputs": []
    },
    {
      "cell_type": "code",
      "execution_count": 30,
      "metadata": {
        "id": "w3IBG8V6FMr5",
        "colab": {
          "base_uri": "https://localhost:8080/",
          "height": 716
        },
        "outputId": "b7a2167c-5e1a-4e89-d874-b9221f8c736a"
      },
      "outputs": [
        {
          "output_type": "stream",
          "name": "stdout",
          "text": [
            "Using downloaded and verified file: /root/.medmnist/pathmnist.npz\n",
            "Using downloaded and verified file: /root/.medmnist/pathmnist.npz\n",
            "Using downloaded and verified file: /root/.medmnist/pathmnist.npz\n"
          ]
        },
        {
          "output_type": "stream",
          "name": "stderr",
          "text": [
            "/usr/local/lib/python3.8/dist-packages/torchvision/models/_utils.py:135: UserWarning: Using 'weights' as positional parameter(s) is deprecated since 0.13 and may be removed in the future. Please use keyword parameter(s) instead.\n",
            "  warnings.warn(\n",
            "/usr/local/lib/python3.8/dist-packages/torchvision/models/_utils.py:223: UserWarning: Arguments other than a weight enum or `None` for 'weights' are deprecated since 0.13 and may be removed in the future. The current behavior is equivalent to passing `weights=ResNet50_Weights.IMAGENET1K_V1`. You can also use `weights=ResNet50_Weights.DEFAULT` to get the most up-to-date weights.\n",
            "  warnings.warn(msg)\n"
          ]
        },
        {
          "output_type": "stream",
          "name": "stdout",
          "text": [
            " Total params: 23.8 M , trainble params 23.8\n",
            "Init Accuracy of the model: Train:8.952 \t Val:9.174680\n"
          ]
        },
        {
          "output_type": "stream",
          "name": "stderr",
          "text": [
            "Ep 19/20: Accuracy : Train:94.31 \t Val:94.45 || Loss: Train 0.165 \t Val 0.159: 100%|██████████| 20/20 [32:04<00:00, 96.24s/it]\n"
          ]
        },
        {
          "output_type": "display_data",
          "data": {
            "text/plain": [
              "<Figure size 864x576 with 2 Axes>"
            ],
            "image/png": "[encoded data removed]"
          },
          "metadata": {
            "needs_background": "light"
          }
        }
      ],
      "source": [
        "from torchvision import transforms as T\n",
        "import medmnist\n",
        "from medmnist import INFO\n",
        "import torchvision\n",
        "import torch.nn as nn\n",
        "\n",
        "# Specify transforms, maps from [0,1] to [-1,1]\n",
        "mean = torch.tensor([0.5], dtype=torch.float32)\n",
        "std = torch.tensor([0.5], dtype=torch.float32)\n",
        "\n",
        "### START CODE HERE ### (approx. 7 lines)\n",
        "train_transform= T.Compose(\n",
        "    [T.ToTensor(), \n",
        "     T.RandomHorizontalFlip(0.5),\n",
        "     T.RandomResizedCrop(size=(28,28), scale=(0.5,1)),\n",
        "     T.RandomApply( [T.ColorJitter(brightness=0.2, contrast=0.2)] , p=0.8), \n",
        "     T.Normalize(list(mean), list(std))\n",
        "     ]\n",
        ")\n",
        "### END CODE HERE ###\n",
        "\n",
        "# For val/time define a plain transform\n",
        "plain_transform = T.Compose([\n",
        "        T.ToTensor(),\n",
        "        T.Normalize(list(mean), list(std))])\n",
        "\n",
        "info = INFO['pathmnist']\n",
        "DataClass = getattr(medmnist, info[\"python_class\"])\n",
        "# load the data\n",
        "train_ds  = DataClass(split='train',  transform=train_transform, download=True)\n",
        "val_ds    = DataClass(split='val',    transform=plain_transform, download=True)\n",
        "test_ds   = DataClass(split='test',   transform=plain_transform, download=True)\n",
        "\n",
        "train_loader  = data.DataLoader(dataset=train_ds, batch_size=BATCH_SIZE, shuffle=True,  drop_last=True)\n",
        "val_loader    = data.DataLoader(dataset=val_ds,   batch_size=BATCH_SIZE, shuffle=False, drop_last=True)\n",
        "test_loader   = data.DataLoader(dataset=test_ds,  batch_size=BATCH_SIZE, shuffle=False, drop_last=True)\n",
        "\n",
        "# create model\n",
        "class ResnetMedNist(nn.Module):\n",
        "    def __init__(self, hidden_mlp, n_classes):\n",
        "        super(ResnetMedNist, self).__init__()\n",
        "        ### START CODE HERE ### (approx. 3 lines)\n",
        "        self.backbone = torchvision.models.resnet50(True)\n",
        "        self.backbone.fc = nn.Identity()\n",
        "        self.mlp = nn.Sequential(nn.Linear(2048, hidden_mlp),\n",
        "                                 nn.Linear(hidden_mlp, n_classes),\n",
        "                                 nn.ReLU(inplace=True)\n",
        "                                 )\n",
        "        ### END CODE HERE ###\n",
        "\n",
        "    def forward(self, x):\n",
        "        ### START CODE HERE ### (approx. 1 lines)\n",
        "        return self.mlp(self.backbone(x))\n",
        "        ### END CODE HERE ###\n",
        "\n",
        "\n",
        "# Initialize model and optimizer\n",
        "num_epochs = 20\n",
        "### START CODE HERE ### (approx. 2 lines)\n",
        "model = ResnetMedNist(128, 9)\n",
        "optimizer = torch.optim.Adam(model.parameters(), lr=3e-4, weight_decay=0.001)\n",
        "### END CODE HERE ###\n",
        "\n",
        "\n",
        "# Number of parameters\n",
        "### START CODE HERE ### (approx. 2 lines)\n",
        "pytorch_total_params = sum(p.numel() for p in model.parameters()) / 1000000\n",
        "pytorch_total_params_trainable = sum(p.numel() for p in model.parameters() if p.requires_grad) / 1000000\n",
        "### END CODE HERE ###\n",
        "print(f\" Total params: {pytorch_total_params:.1f} M , trainble params {pytorch_total_params_trainable:.1f}\")\n",
        "\n",
        "dict_log = train(model, optimizer, num_epochs, train_loader, val_loader, DEVICE)\n",
        "\n",
        "figsize = (12,8)\n",
        "plt.figure(figsize=figsize)\n",
        "plot_stats(dict_log, baseline=94, modelname=\"Resnet50 + MLP fine-tuning\")\n",
        "plt.show()"
      ]
    }
  ],
  "metadata": {
    "accelerator": "GPU",
    "colab": {
      "collapsed_sections": [
        "QoDj5JShEA5G"
      ],
      "machine_shape": "hm",
      "provenance": []
    },
    "gpuClass": "standard",
    "kernelspec": {
      "display_name": "Python 3.7.15 ('teach')",
      "language": "python",
      "name": "python3"
    },
    "language_info": {
      "codemirror_mode": {
        "name": "ipython",
        "version": 3
      },
      "file_extension": ".py",
      "mimetype": "text/x-python",
      "name": "python",
      "nbconvert_exporter": "python",
      "pygments_lexer": "ipython3",
      "version": "3.7.15"
    },
    "vscode": {
      "interpreter": {
        "hash": "dc5fcf396fe0abd4fa852aee332a0572494dcaf5776820055c87d9b84157f362"
      }
    },
    "widgets": {
      "application/vnd.jupyter.widget-state+json": {
        "27b568c7811b482c80ad67dbbb449c74": {
          "model_module": "@jupyter-widgets/controls",
          "model_name": "HBoxModel",
          "model_module_version": "1.5.0",
          "state": {
            "_dom_classes": [],
            "_model_module": "@jupyter-widgets/controls",
            "_model_module_version": "1.5.0",
            "_model_name": "HBoxModel",
            "_view_count": null,
            "_view_module": "@jupyter-widgets/controls",
            "_view_module_version": "1.5.0",
            "_view_name": "HBoxView",
            "box_style": "",
            "children": [
              "IPY_MODEL_d5f07106b98b4c219910a15cbebea324",
              "IPY_MODEL_d2c12bf021cb4051aad232e96cd58688",
              "IPY_MODEL_559127195d5a419682d84a888d7a193f"
            ],
            "layout": "IPY_MODEL_25dc27a105774b6caee53e8043f7a575"
          }
        },
        "d5f07106b98b4c219910a15cbebea324": {
          "model_module": "@jupyter-widgets/controls",
          "model_name": "HTMLModel",
          "model_module_version": "1.5.0",
          "state": {
            "_dom_classes": [],
            "_model_module": "@jupyter-widgets/controls",
            "_model_module_version": "1.5.0",
            "_model_name": "HTMLModel",
            "_view_count": null,
            "_view_module": "@jupyter-widgets/controls",
            "_view_module_version": "1.5.0",
            "_view_name": "HTMLView",
            "description": "",
            "description_tooltip": null,
            "layout": "IPY_MODEL_50ae9465b57549eaac82576376c576f0",
            "placeholder": "​",
            "style": "IPY_MODEL_312e114a95134f49a0d807020ab6a532",
            "value": "100%"
          }
        },
        "d2c12bf021cb4051aad232e96cd58688": {
          "model_module": "@jupyter-widgets/controls",
          "model_name": "FloatProgressModel",
          "model_module_version": "1.5.0",
          "state": {
            "_dom_classes": [],
            "_model_module": "@jupyter-widgets/controls",
            "_model_module_version": "1.5.0",
            "_model_name": "FloatProgressModel",
            "_view_count": null,
            "_view_module": "@jupyter-widgets/controls",
            "_view_module_version": "1.5.0",
            "_view_name": "ProgressView",
            "bar_style": "success",
            "description": "",
            "description_tooltip": null,
            "layout": "IPY_MODEL_603f8e5d4ae34c7baff845beee688414",
            "max": 46830571,
            "min": 0,
            "orientation": "horizontal",
            "style": "IPY_MODEL_af3fe6c0045b4b6697ae3e9a4e8fa49a",
            "value": 46830571
          }
        },
        "559127195d5a419682d84a888d7a193f": {
          "model_module": "@jupyter-widgets/controls",
          "model_name": "HTMLModel",
          "model_module_version": "1.5.0",
          "state": {
            "_dom_classes": [],
            "_model_module": "@jupyter-widgets/controls",
            "_model_module_version": "1.5.0",
            "_model_name": "HTMLModel",
            "_view_count": null,
            "_view_module": "@jupyter-widgets/controls",
            "_view_module_version": "1.5.0",
            "_view_name": "HTMLView",
            "description": "",
            "description_tooltip": null,
            "layout": "IPY_MODEL_f63624799bab485cb95a7d364f1dbdea",
            "placeholder": "​",
            "style": "IPY_MODEL_01c299f3ac5c4ba8b431614f74e27986",
            "value": " 44.7M/44.7M [00:01&lt;00:00, 45.1MB/s]"
          }
        },
        "25dc27a105774b6caee53e8043f7a575": {
          "model_module": "@jupyter-widgets/base",
          "model_name": "LayoutModel",
          "model_module_version": "1.2.0",
          "state": {
            "_model_module": "@jupyter-widgets/base",
            "_model_module_version": "1.2.0",
            "_model_name": "LayoutModel",
            "_view_count": null,
            "_view_module": "@jupyter-widgets/base",
            "_view_module_version": "1.2.0",
            "_view_name": "LayoutView",
            "align_content": null,
            "align_items": null,
            "align_self": null,
            "border": null,
            "bottom": null,
            "display": null,
            "flex": null,
            "flex_flow": null,
            "grid_area": null,
            "grid_auto_columns": null,
            "grid_auto_flow": null,
            "grid_auto_rows": null,
            "grid_column": null,
            "grid_gap": null,
            "grid_row": null,
            "grid_template_areas": null,
            "grid_template_columns": null,
            "grid_template_rows": null,
            "height": null,
            "justify_content": null,
            "justify_items": null,
            "left": null,
            "margin": null,
            "max_height": null,
            "max_width": null,
            "min_height": null,
            "min_width": null,
            "object_fit": null,
            "object_position": null,
            "order": null,
            "overflow": null,
            "overflow_x": null,
            "overflow_y": null,
            "padding": null,
            "right": null,
            "top": null,
            "visibility": null,
            "width": null
          }
        },
        "50ae9465b57549eaac82576376c576f0": {
          "model_module": "@jupyter-widgets/base",
          "model_name": "LayoutModel",
          "model_module_version": "1.2.0",
          "state": {
            "_model_module": "@jupyter-widgets/base",
            "_model_module_version": "1.2.0",
            "_model_name": "LayoutModel",
            "_view_count": null,
            "_view_module": "@jupyter-widgets/base",
            "_view_module_version": "1.2.0",
            "_view_name": "LayoutView",
            "align_content": null,
            "align_items": null,
            "align_self": null,
            "border": null,
            "bottom": null,
            "display": null,
            "flex": null,
            "flex_flow": null,
            "grid_area": null,
            "grid_auto_columns": null,
            "grid_auto_flow": null,
            "grid_auto_rows": null,
            "grid_column": null,
            "grid_gap": null,
            "grid_row": null,
            "grid_template_areas": null,
            "grid_template_columns": null,
            "grid_template_rows": null,
            "height": null,
            "justify_content": null,
            "justify_items": null,
            "left": null,
            "margin": null,
            "max_height": null,
            "max_width": null,
            "min_height": null,
            "min_width": null,
            "object_fit": null,
            "object_position": null,
            "order": null,
            "overflow": null,
            "overflow_x": null,
            "overflow_y": null,
            "padding": null,
            "right": null,
            "top": null,
            "visibility": null,
            "width": null
          }
        },
        "312e114a95134f49a0d807020ab6a532": {
          "model_module": "@jupyter-widgets/controls",
          "model_name": "DescriptionStyleModel",
          "model_module_version": "1.5.0",
          "state": {
            "_model_module": "@jupyter-widgets/controls",
            "_model_module_version": "1.5.0",
            "_model_name": "DescriptionStyleModel",
            "_view_count": null,
            "_view_module": "@jupyter-widgets/base",
            "_view_module_version": "1.2.0",
            "_view_name": "StyleView",
            "description_width": ""
          }
        },
        "603f8e5d4ae34c7baff845beee688414": {
          "model_module": "@jupyter-widgets/base",
          "model_name": "LayoutModel",
          "model_module_version": "1.2.0",
          "state": {
            "_model_module": "@jupyter-widgets/base",
            "_model_module_version": "1.2.0",
            "_model_name": "LayoutModel",
            "_view_count": null,
            "_view_module": "@jupyter-widgets/base",
            "_view_module_version": "1.2.0",
            "_view_name": "LayoutView",
            "align_content": null,
            "align_items": null,
            "align_self": null,
            "border": null,
            "bottom": null,
            "display": null,
            "flex": null,
            "flex_flow": null,
            "grid_area": null,
            "grid_auto_columns": null,
            "grid_auto_flow": null,
            "grid_auto_rows": null,
            "grid_column": null,
            "grid_gap": null,
            "grid_row": null,
            "grid_template_areas": null,
            "grid_template_columns": null,
            "grid_template_rows": null,
            "height": null,
            "justify_content": null,
            "justify_items": null,
            "left": null,
            "margin": null,
            "max_height": null,
            "max_width": null,
            "min_height": null,
            "min_width": null,
            "object_fit": null,
            "object_position": null,
            "order": null,
            "overflow": null,
            "overflow_x": null,
            "overflow_y": null,
            "padding": null,
            "right": null,
            "top": null,
            "visibility": null,
            "width": null
          }
        },
        "af3fe6c0045b4b6697ae3e9a4e8fa49a": {
          "model_module": "@jupyter-widgets/controls",
          "model_name": "ProgressStyleModel",
          "model_module_version": "1.5.0",
          "state": {
            "_model_module": "@jupyter-widgets/controls",
            "_model_module_version": "1.5.0",
            "_model_name": "ProgressStyleModel",
            "_view_count": null,
            "_view_module": "@jupyter-widgets/base",
            "_view_module_version": "1.2.0",
            "_view_name": "StyleView",
            "bar_color": null,
            "description_width": ""
          }
        },
        "f63624799bab485cb95a7d364f1dbdea": {
          "model_module": "@jupyter-widgets/base",
          "model_name": "LayoutModel",
          "model_module_version": "1.2.0",
          "state": {
            "_model_module": "@jupyter-widgets/base",
            "_model_module_version": "1.2.0",
            "_model_name": "LayoutModel",
            "_view_count": null,
            "_view_module": "@jupyter-widgets/base",
            "_view_module_version": "1.2.0",
            "_view_name": "LayoutView",
            "align_content": null,
            "align_items": null,
            "align_self": null,
            "border": null,
            "bottom": null,
            "display": null,
            "flex": null,
            "flex_flow": null,
            "grid_area": null,
            "grid_auto_columns": null,
            "grid_auto_flow": null,
            "grid_auto_rows": null,
            "grid_column": null,
            "grid_gap": null,
            "grid_row": null,
            "grid_template_areas": null,
            "grid_template_columns": null,
            "grid_template_rows": null,
            "height": null,
            "justify_content": null,
            "justify_items": null,
            "left": null,
            "margin": null,
            "max_height": null,
            "max_width": null,
            "min_height": null,
            "min_width": null,
            "object_fit": null,
            "object_position": null,
            "order": null,
            "overflow": null,
            "overflow_x": null,
            "overflow_y": null,
            "padding": null,
            "right": null,
            "top": null,
            "visibility": null,
            "width": null
          }
        },
        "01c299f3ac5c4ba8b431614f74e27986": {
          "model_module": "@jupyter-widgets/controls",
          "model_name": "DescriptionStyleModel",
          "model_module_version": "1.5.0",
          "state": {
            "_model_module": "@jupyter-widgets/controls",
            "_model_module_version": "1.5.0",
            "_model_name": "DescriptionStyleModel",
            "_view_count": null,
            "_view_module": "@jupyter-widgets/base",
            "_view_module_version": "1.2.0",
            "_view_name": "StyleView",
            "description_width": ""
          }
        },
        "53fda3b269be421482eb5be2119e9755": {
          "model_module": "@jupyter-widgets/controls",
          "model_name": "HBoxModel",
          "model_module_version": "1.5.0",
          "state": {
            "_dom_classes": [],
            "_model_module": "@jupyter-widgets/controls",
            "_model_module_version": "1.5.0",
            "_model_name": "HBoxModel",
            "_view_count": null,
            "_view_module": "@jupyter-widgets/controls",
            "_view_module_version": "1.5.0",
            "_view_name": "HBoxView",
            "box_style": "",
            "children": [
              "IPY_MODEL_dd4cd1ae19ba49a5aaa7077ce50bb113",
              "IPY_MODEL_7b4eca57019d4048aae41e8f4bfc7035",
              "IPY_MODEL_c5e3d8a116ab4b9e90de93303365d9d8"
            ],
            "layout": "IPY_MODEL_246156bc8b9a4131a0b687c86c369bff"
          }
        },
        "dd4cd1ae19ba49a5aaa7077ce50bb113": {
          "model_module": "@jupyter-widgets/controls",
          "model_name": "HTMLModel",
          "model_module_version": "1.5.0",
          "state": {
            "_dom_classes": [],
            "_model_module": "@jupyter-widgets/controls",
            "_model_module_version": "1.5.0",
            "_model_name": "HTMLModel",
            "_view_count": null,
            "_view_module": "@jupyter-widgets/controls",
            "_view_module_version": "1.5.0",
            "_view_name": "HTMLView",
            "description": "",
            "description_tooltip": null,
            "layout": "IPY_MODEL_f80a3acc62494302a17b5256563ca60f",
            "placeholder": "​",
            "style": "IPY_MODEL_49a37e35518344c1ad26420bca1729f8",
            "value": "100%"
          }
        },
        "7b4eca57019d4048aae41e8f4bfc7035": {
          "model_module": "@jupyter-widgets/controls",
          "model_name": "FloatProgressModel",
          "model_module_version": "1.5.0",
          "state": {
            "_dom_classes": [],
            "_model_module": "@jupyter-widgets/controls",
            "_model_module_version": "1.5.0",
            "_model_name": "FloatProgressModel",
            "_view_count": null,
            "_view_module": "@jupyter-widgets/controls",
            "_view_module_version": "1.5.0",
            "_view_name": "ProgressView",
            "bar_style": "success",
            "description": "",
            "description_tooltip": null,
            "layout": "IPY_MODEL_59568f022b57492a9ccd5312f773a2d0",
            "max": 102530333,
            "min": 0,
            "orientation": "horizontal",
            "style": "IPY_MODEL_ea2b6a95416645e8a620dcd84b1ca8f2",
            "value": 102530333
          }
        },
        "c5e3d8a116ab4b9e90de93303365d9d8": {
          "model_module": "@jupyter-widgets/controls",
          "model_name": "HTMLModel",
          "model_module_version": "1.5.0",
          "state": {
            "_dom_classes": [],
            "_model_module": "@jupyter-widgets/controls",
            "_model_module_version": "1.5.0",
            "_model_name": "HTMLModel",
            "_view_count": null,
            "_view_module": "@jupyter-widgets/controls",
            "_view_module_version": "1.5.0",
            "_view_name": "HTMLView",
            "description": "",
            "description_tooltip": null,
            "layout": "IPY_MODEL_403d25bb458d49768c2813633bb70439",
            "placeholder": "​",
            "style": "IPY_MODEL_bfc77cc8bbf14bb1ae5c7d2e7dccc5f2",
            "value": " 97.8M/97.8M [00:00&lt;00:00, 185MB/s]"
          }
        },
        "246156bc8b9a4131a0b687c86c369bff": {
          "model_module": "@jupyter-widgets/base",
          "model_name": "LayoutModel",
          "model_module_version": "1.2.0",
          "state": {
            "_model_module": "@jupyter-widgets/base",
            "_model_module_version": "1.2.0",
            "_model_name": "LayoutModel",
            "_view_count": null,
            "_view_module": "@jupyter-widgets/base",
            "_view_module_version": "1.2.0",
            "_view_name": "LayoutView",
            "align_content": null,
            "align_items": null,
            "align_self": null,
            "border": null,
            "bottom": null,
            "display": null,
            "flex": null,
            "flex_flow": null,
            "grid_area": null,
            "grid_auto_columns": null,
            "grid_auto_flow": null,
            "grid_auto_rows": null,
            "grid_column": null,
            "grid_gap": null,
            "grid_row": null,
            "grid_template_areas": null,
            "grid_template_columns": null,
            "grid_template_rows": null,
            "height": null,
            "justify_content": null,
            "justify_items": null,
            "left": null,
            "margin": null,
            "max_height": null,
            "max_width": null,
            "min_height": null,
            "min_width": null,
            "object_fit": null,
            "object_position": null,
            "order": null,
            "overflow": null,
            "overflow_x": null,
            "overflow_y": null,
            "padding": null,
            "right": null,
            "top": null,
            "visibility": null,
            "width": null
          }
        },
        "f80a3acc62494302a17b5256563ca60f": {
          "model_module": "@jupyter-widgets/base",
          "model_name": "LayoutModel",
          "model_module_version": "1.2.0",
          "state": {
            "_model_module": "@jupyter-widgets/base",
            "_model_module_version": "1.2.0",
            "_model_name": "LayoutModel",
            "_view_count": null,
            "_view_module": "@jupyter-widgets/base",
            "_view_module_version": "1.2.0",
            "_view_name": "LayoutView",
            "align_content": null,
            "align_items": null,
            "align_self": null,
            "border": null,
            "bottom": null,
            "display": null,
            "flex": null,
            "flex_flow": null,
            "grid_area": null,
            "grid_auto_columns": null,
            "grid_auto_flow": null,
            "grid_auto_rows": null,
            "grid_column": null,
            "grid_gap": null,
            "grid_row": null,
            "grid_template_areas": null,
            "grid_template_columns": null,
            "grid_template_rows": null,
            "height": null,
            "justify_content": null,
            "justify_items": null,
            "left": null,
            "margin": null,
            "max_height": null,
            "max_width": null,
            "min_height": null,
            "min_width": null,
            "object_fit": null,
            "object_position": null,
            "order": null,
            "overflow": null,
            "overflow_x": null,
            "overflow_y": null,
            "padding": null,
            "right": null,
            "top": null,
            "visibility": null,
            "width": null
          }
        },
        "49a37e35518344c1ad26420bca1729f8": {
          "model_module": "@jupyter-widgets/controls",
          "model_name": "DescriptionStyleModel",
          "model_module_version": "1.5.0",
          "state": {
            "_model_module": "@jupyter-widgets/controls",
            "_model_module_version": "1.5.0",
            "_model_name": "DescriptionStyleModel",
            "_view_count": null,
            "_view_module": "@jupyter-widgets/base",
            "_view_module_version": "1.2.0",
            "_view_name": "StyleView",
            "description_width": ""
          }
        },
        "59568f022b57492a9ccd5312f773a2d0": {
          "model_module": "@jupyter-widgets/base",
          "model_name": "LayoutModel",
          "model_module_version": "1.2.0",
          "state": {
            "_model_module": "@jupyter-widgets/base",
            "_model_module_version": "1.2.0",
            "_model_name": "LayoutModel",
            "_view_count": null,
            "_view_module": "@jupyter-widgets/base",
            "_view_module_version": "1.2.0",
            "_view_name": "LayoutView",
            "align_content": null,
            "align_items": null,
            "align_self": null,
            "border": null,
            "bottom": null,
            "display": null,
            "flex": null,
            "flex_flow": null,
            "grid_area": null,
            "grid_auto_columns": null,
            "grid_auto_flow": null,
            "grid_auto_rows": null,
            "grid_column": null,
            "grid_gap": null,
            "grid_row": null,
            "grid_template_areas": null,
            "grid_template_columns": null,
            "grid_template_rows": null,
            "height": null,
            "justify_content": null,
            "justify_items": null,
            "left": null,
            "margin": null,
            "max_height": null,
            "max_width": null,
            "min_height": null,
            "min_width": null,
            "object_fit": null,
            "object_position": null,
            "order": null,
            "overflow": null,
            "overflow_x": null,
            "overflow_y": null,
            "padding": null,
            "right": null,
            "top": null,
            "visibility": null,
            "width": null
          }
        },
        "ea2b6a95416645e8a620dcd84b1ca8f2": {
          "model_module": "@jupyter-widgets/controls",
          "model_name": "ProgressStyleModel",
          "model_module_version": "1.5.0",
          "state": {
            "_model_module": "@jupyter-widgets/controls",
            "_model_module_version": "1.5.0",
            "_model_name": "ProgressStyleModel",
            "_view_count": null,
            "_view_module": "@jupyter-widgets/base",
            "_view_module_version": "1.2.0",
            "_view_name": "StyleView",
            "bar_color": null,
            "description_width": ""
          }
        },
        "403d25bb458d49768c2813633bb70439": {
          "model_module": "@jupyter-widgets/base",
          "model_name": "LayoutModel",
          "model_module_version": "1.2.0",
          "state": {
            "_model_module": "@jupyter-widgets/base",
            "_model_module_version": "1.2.0",
            "_model_name": "LayoutModel",
            "_view_count": null,
            "_view_module": "@jupyter-widgets/base",
            "_view_module_version": "1.2.0",
            "_view_name": "LayoutView",
            "align_content": null,
            "align_items": null,
            "align_self": null,
            "border": null,
            "bottom": null,
            "display": null,
            "flex": null,
            "flex_flow": null,
            "grid_area": null,
            "grid_auto_columns": null,
            "grid_auto_flow": null,
            "grid_auto_rows": null,
            "grid_column": null,
            "grid_gap": null,
            "grid_row": null,
            "grid_template_areas": null,
            "grid_template_columns": null,
            "grid_template_rows": null,
            "height": null,
            "justify_content": null,
            "justify_items": null,
            "left": null,
            "margin": null,
            "max_height": null,
            "max_width": null,
            "min_height": null,
            "min_width": null,
            "object_fit": null,
            "object_position": null,
            "order": null,
            "overflow": null,
            "overflow_x": null,
            "overflow_y": null,
            "padding": null,
            "right": null,
            "top": null,
            "visibility": null,
            "width": null
          }
        },
        "bfc77cc8bbf14bb1ae5c7d2e7dccc5f2": {
          "model_module": "@jupyter-widgets/controls",
          "model_name": "DescriptionStyleModel",
          "model_module_version": "1.5.0",
          "state": {
            "_model_module": "@jupyter-widgets/controls",
            "_model_module_version": "1.5.0",
            "_model_name": "DescriptionStyleModel",
            "_view_count": null,
            "_view_module": "@jupyter-widgets/base",
            "_view_module_version": "1.2.0",
            "_view_name": "StyleView",
            "description_width": ""
          }
        }
      }
    }
  },
  "nbformat": 4,
  "nbformat_minor": 0
}